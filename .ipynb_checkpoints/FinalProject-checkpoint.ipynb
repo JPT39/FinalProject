{
 "cells": [
  {
   "cell_type": "code",
   "execution_count": 1,
   "metadata": {},
   "outputs": [],
   "source": [
    "import pandas as pd\n",
    "import numpy as np"
   ]
  },
  {
   "cell_type": "code",
   "execution_count": 5,
   "metadata": {},
   "outputs": [
    {
     "data": {
      "text/plain": [
       "<matplotlib.axes._subplots.AxesSubplot at 0x7f4a0ad97400>"
      ]
     },
     "execution_count": 5,
     "metadata": {},
     "output_type": "execute_result"
    },
    {
     "data": {
      "image/png": "[encoded data removed]",
      "text/plain": [
       "<Figure size 432x288 with 1 Axes>"
      ]
     },
     "metadata": {
      "needs_background": "light"
     },
     "output_type": "display_data"
    }
   ],
   "source": [
    "fastFoodData = pd.read_csv(\"https://data.wprdc.org/dataset/c34f9a82-779c-4f90-9e1c-b3b5025b0db5/resource/3c530161-2976-41ae-a0f0-7d3e74835049/download/fastfoodalleghenycountyupdatexy2.csv\", index_col=\"ZIP Code\")\n",
    "fastFoodData['Store Count'] = 1\n",
    "fastFoodZip = fastFoodData.groupby(\"ZIP Code\").sum()\n",
    "fastFoodinZip = fastFoodZip['Store Count']\n",
    "fastFoodinZip.nlargest(10).plot.bar()"
   ]
  },
  {
   "cell_type": "code",
   "execution_count": null,
   "metadata": {},
   "outputs": [],
   "source": []
  }
 ],
 "metadata": {
  "kernelspec": {
   "display_name": "Python 3.7",
   "language": "python",
   "name": "python3"
  },
  "language_info": {
   "codemirror_mode": {
    "name": "ipython",
    "version": 3
   },
   "file_extension": ".py",
   "mimetype": "text/x-python",
   "name": "python",
   "nbconvert_exporter": "python",
   "pygments_lexer": "ipython3",
   "version": "3.7.0"
  }
 },
 "nbformat": 4,
 "nbformat_minor": 4
}
